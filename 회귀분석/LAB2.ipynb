{
 "metadata": {
  "language_info": {
   "codemirror_mode": {
    "name": "ipython",
    "version": 3
   },
   "file_extension": ".py",
   "mimetype": "text/x-python",
   "name": "python",
   "nbconvert_exporter": "python",
   "pygments_lexer": "ipython3",
   "version": 3
  },
  "orig_nbformat": 2
 },
 "nbformat": 4,
 "nbformat_minor": 2,
 "cells": [
  {
   "cell_type": "code",
   "execution_count": null,
   "metadata": {},
   "outputs": [],
   "source": [
    "import numpy as np\n",
    "import pandas as pd\n",
    "import matplotlib.pyplot as plt\n",
    "import random\n",
    "\n",
    "random.seed(0)\n",
    "data = np.random.randint(1, 99, (10, 2))\n",
    "\n",
    "x = [i[0] for i in data]\n",
    "y = [i[1] for i in data]\n",
    "\n",
    "x_data = np.array(x)\n",
    "y_data = np.array(y)\n",
    "\n",
    "lr = 0.0002\n",
    "epoch = 2001\n",
    "\n",
    "a = 0\n",
    "b = 0\n",
    "tmp = 0\n",
    "\n",
    "for i in range(epochs):\n",
    "    y_hat = a * x_data + b  \n",
    "    error = y_data - y_hat \n",
    "    a_diff = -(2/len(x_data)) * sum(x_data * (error))  \n",
    "    b_diff = -(2/len(x_data)) * sum(error)\n",
    "    \n",
    "    mse = (error ** 2).mean() \n",
    "    \n",
    "    if (tmp != 0 and mse > tmp):\n",
    "        lr = lr - 0.00001\n",
    "        \n",
    "    if i % 400 == 0:    # 400번 반복될 때마다 현재의 a값, b값을 출력\n",
    "        print(\"epoch=%.f, 기울기=%.04f, 절편=%.04f\" % (i, a, b))\n",
    "        print(\"LR:%.05f, a_diff:%.02f, b_diff:%.02f, MSE:%.09f\" % (lr, a_diff, b_diff, mse))\n",
    "   \n",
    "    a = a - lr * a_diff  # 학습률을 곱해 기존의 a값을 업데이트\n",
    "    b = b - lr * b_diff  # 학습률을 곱해 기존의 b값을 업데이트\n",
    "    tmp = mse\n",
    "    \n",
    "plt.figure(figsize=(8,5))\n",
    "plt.plot(x_data, y_hat, marker=\".\", markersize=\"15\", mfc=\"red\")\n",
    "plt.scatter(x, y, marker=\"x\")\n",
    "plt.plot([x_data, x], [y_hat, y])\n",
    "plt.show()"
   ]
  }
 ]
}