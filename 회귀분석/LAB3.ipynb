{
 "metadata": {
  "language_info": {
   "codemirror_mode": {
    "name": "ipython",
    "version": 3
   },
   "file_extension": ".py",
   "mimetype": "text/x-python",
   "name": "python",
   "nbconvert_exporter": "python",
   "pygments_lexer": "ipython3",
   "version": 3
  },
  "orig_nbformat": 2
 },
 "nbformat": 4,
 "nbformat_minor": 2,
 "cells": [
  {
   "cell_type": "code",
   "execution_count": null,
   "metadata": {},
   "outputs": [],
   "source": [
    "import numpy as np\n",
    "\n",
    "#학습데이터\n",
    "X_data = [[1.0, 2.0], [2.0, 2.0], [3.0, 3.0], [4.0, 3.0], [5.0, 3.0], [6.0, 2.0]]\n",
    "Y_data = [[0.0],      [0.0],       [0.0],      [1.0],      [1.0],      [0.0]     ]\n",
    "X = np.array(X_data)\n",
    "Y = np.array(Y_data)\n",
    "\n",
    "from tensorflow.keras.models import Sequential\n",
    "from tensorflow.keras.layers import Dense\n",
    "\n",
    "model = Sequential()\n",
    "model.add( Dense(24, input_dim=2, activation='relu'))\n",
    "model.add( Dense(10, activation='relu')) \n",
    "#예측함수의 범위를 넓혀줘서 선형회귀나 로지스틱에 부합하지 않을때도 정확도를 높여준다.\n",
    "model.add( Dense(1, activation='sigmoid'))\n",
    "\n",
    "model.compile( loss='binary_crossentropy', optimizer='adam', metrics=['accuracy'])\n",
    "model.fit(X, Y, epochs=200, batch_size=6)\n",
    "\n",
    "result = model.evaluate(X, Y)\n",
    "print(\"\\n<Model Evaluation>\")\n",
    "print(\"Accuracy: %.4f\" % (result[1]))\n",
    "print(\"Error: %.4f\" % (result[0]))\n",
    "\n",
    "print(\"\\n<Expectation Test>\")\n",
    "output = model.predict( X )\n",
    "print( output )"
   ]
  }
 ]
}