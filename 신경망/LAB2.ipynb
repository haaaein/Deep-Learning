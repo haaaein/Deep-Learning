{
 "metadata": {
  "language_info": {
   "codemirror_mode": {
    "name": "ipython",
    "version": 3
   },
   "file_extension": ".py",
   "mimetype": "text/x-python",
   "name": "python",
   "nbconvert_exporter": "python",
   "pygments_lexer": "ipython3",
   "version": 3
  },
  "orig_nbformat": 2
 },
 "nbformat": 4,
 "nbformat_minor": 2,
 "cells": [
  {
   "cell_type": "code",
   "execution_count": null,
   "metadata": {},
   "outputs": [],
   "source": [
    "from tensorflow.keras.models import Sequential\n",
    "from tensorflow.keras.layers import Dense\n",
    "\n",
    "import numpy as np\n",
    "import tensorflow as tf\n",
    "\n",
    "np.random.seed(3)\n",
    "tf.random.set_seed(3)\n",
    "\n",
    "Data_set = np.loadtxt(\"./dataset/ThoraricSurgery.csv\", delimiter=\",\")\n",
    "\n",
    "X = Data_set[:,0:17]\n",
    "Y = Data_set[:,17]\n",
    "\n",
    "model = Sequential()\n",
    "model.add(Dense(100, input_dim=17, activation='relu'))\n",
    "#입력층의 노드 개수를 100으로 증가시켰더니 성능이 좋아졌다.\n",
    "#activation 함수를 softplus로 변경하였더니 성능이 저하되었다.\n",
    "model.add(Dense(50, activation='relu'))\n",
    "#은닉층을 하나만 추가하였더니 성능이 증가하였으나, 은닉층을 2개 추가하니 성능이 저하되었다.\n",
    "model.add(Dense(1, activation='sigmoid'))\n",
    "\n",
    "model.compile(loss='binary_crossentropy', optimizer='adam', metrics=['accuracy'])\n",
    "#loss를 이항 교차 엔트로피가 아니라 평균 제곱 오차, 범주형 교차 엔트로피로 변경했더니 성능이 저하된다.\n",
    "#0, 1 두개의 클래스 중에서 예측하는 경우이므로 binary_crossentropy가 적절해보인다.\n",
    "model.fit(X, Y, epochs=1000, batch_size=20)"
   ]
  }
 ]
}