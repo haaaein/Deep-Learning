{
 "metadata": {
  "language_info": {
   "codemirror_mode": {
    "name": "ipython",
    "version": 3
   },
   "file_extension": ".py",
   "mimetype": "text/x-python",
   "name": "python",
   "nbconvert_exporter": "python",
   "pygments_lexer": "ipython3",
   "version": 3
  },
  "orig_nbformat": 2
 },
 "nbformat": 4,
 "nbformat_minor": 2,
 "cells": [
  {
   "cell_type": "code",
   "execution_count": null,
   "metadata": {},
   "outputs": [],
   "source": [
    "from korea_news_crawler.articlecrawler import ArticleCrawler\n",
    "\n",
    "Crawler = ArticleCrawler()\n",
    "Crawler.set_category(\"정치\", \"경제\", \"사회\", \"IT과학\")\n",
    "Crawler.set_date_range(2020, 12, 2020, 12)\n",
    "Crawler.start()\n",
    "\n",
    "import pandas as pd\n",
    "import os\n",
    "import numpy as np\n",
    "\n",
    "df_0 = pd.read_csv('./output/Article_정치_202012_202012.csv', names=['date', 'section', 'press', 'title', 'contents', 'url'], header=0)\n",
    "df_1 = pd.read_csv('./output/Article_경제_202012_202012.csv', names=['date', 'section', 'press', 'title', 'contents', 'url'], header=0)\n",
    "df_2 = pd.read_csv('./output/Article_사회_202012_202012.csv', names=['date', 'section', 'press', 'title', 'contents', 'url'], header=0)\n",
    "df_3 = pd.read_csv('./output/Article_IT과학_202012_202012.csv', names=['date', 'section', 'press', 'title', 'contents', 'url'], header=0)\n",
    "\n",
    "df_0 = df_0[['title', 'section']]\n",
    "df_1 = df_1[['title', 'section']]\n",
    "df_2 = df_2[['title', 'section']]\n",
    "df_3 = df_3[['title', 'section']]\n",
    "\n",
    "#정치\n",
    "title_politics = df_0[:2500]\n",
    "\n",
    "#경제\n",
    "title_economics = df_1[:2500]\n",
    "\n",
    "#사회\n",
    "title_society = df_2[:2500]\n",
    "\n",
    "#IT과학\n",
    "title_IT = df_3[:2500]\n",
    "\n",
    "if os.path.isfile('./train_SectionDataset.csv'):\n",
    "    df = pd.read_csv('./train_SectionDataset.csv', names=['title', 'section'], header=0)\n",
    "else:\n",
    "    bodyStruc = {'title': [], 'section': []}\n",
    "    df = pd.DataFrame( bodyStruc, columns=['title', 'section'] )\n",
    "\n",
    "df = df.append( title_politics, ignore_index=True )\n",
    "df = df.append( title_economics, ignore_index=True )\n",
    "df = df.append( title_society, ignore_index=True )\n",
    "df = df.append( title_IT, ignore_index=True )\n",
    "\n",
    "df.to_csv('./train_SectionDataset.csv', encoding='UTF-8', index=False, header=True)"
   ]
  }
 ]
}