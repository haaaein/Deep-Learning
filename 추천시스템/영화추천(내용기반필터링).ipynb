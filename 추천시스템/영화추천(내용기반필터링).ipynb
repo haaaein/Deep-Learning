{
 "metadata": {
  "language_info": {
   "codemirror_mode": {
    "name": "ipython",
    "version": 3
   },
   "file_extension": ".py",
   "mimetype": "text/x-python",
   "name": "python",
   "nbconvert_exporter": "python",
   "pygments_lexer": "ipython3",
   "version": 3
  },
  "orig_nbformat": 2
 },
 "nbformat": 4,
 "nbformat_minor": 2,
 "cells": [
  {
   "cell_type": "code",
   "execution_count": null,
   "metadata": {},
   "outputs": [],
   "source": [
    "import pandas as pd\n",
    "import matplotlib.pyplot as plt\n",
    "\n",
    "df1 = pd.read_csv('./dataset/tmdb_5000_movies.csv', header=0) \n",
    "print( df1.shape )\n",
    "print( df1.head(2) )\n",
    "\n"
   ]
  },
  {
   "cell_type": "code",
   "execution_count": null,
   "metadata": {},
   "outputs": [],
   "source": [
    "df2 = df1[ ['id', 'genres', 'vote_average', 'vote_count', 'popularity', 'title', 'keywords', 'overview'] ]\n",
    "print( df2.shape )\n",
    "print( df2[['id', 'vote_average', 'vote_count']][:3]  )"
   ]
  },
  {
   "cell_type": "code",
   "execution_count": null,
   "metadata": {},
   "outputs": [],
   "source": [
    "from sklearn.feature_extraction.text import CountVectorizer\n",
    "\n",
    "print( df2[['genres']].head(3) )\n",
    "count_vector = CountVectorizer( ngram_range=(1,3) )\n",
    "c_vector_genres = count_vector.fit_transform( df2['genres'] )\n",
    "print( c_vector_genres.shape )\n",
    "print( c_vector_genres )"
   ]
  },
  {
   "cell_type": "code",
   "execution_count": null,
   "metadata": {},
   "outputs": [],
   "source": [
    "from sklearn.metrics.pairwise import cosine_similarity\n",
    "\n",
    "genres_c_sim = cosine_similarity( c_vector_genres )\n",
    "print( genres_c_sim )\n",
    "\n",
    "genres_c_sim = genres_c_sim.argsort()[:, ::-1]\n",
    "print( genres_c_sim )"
   ]
  },
  {
   "cell_type": "code",
   "execution_count": null,
   "metadata": {},
   "outputs": [],
   "source": [
    "def get_recommend_movie_list(df, input_title, top=5):\n",
    "    # 입력 제목 영화의 인텍스 값 추출\n",
    "    target_index = df[ df['title'] == input_title].index.values\n",
    "    print( target_index )\n",
    "    # 코사인 유사도 중 비슷한 코사인 유사도를 가진 정보를 추출    \n",
    "    sim_index1 = genres_c_sim[target_index, :top]\n",
    "    print( sim_index1 )\n",
    "    sim_index2 = sim_index1.reshape(-1)\n",
    "    print( sim_index2 )\n",
    "    # 본인 제외\n",
    "    sim_index3 = sim_index2[ sim_index2 != target_index ]\n",
    "    print( sim_index3 )\n",
    "    # 최종 선택   \n",
    "    return  df.iloc[ sim_index3 ]\n",
    "\n",
    "get_recommend_movie_list( df2, 'Avatar' )"
   ]
  }
 ]
}