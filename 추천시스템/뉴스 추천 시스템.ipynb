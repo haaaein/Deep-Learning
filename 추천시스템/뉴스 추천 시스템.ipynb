{
 "metadata": {
  "language_info": {
   "codemirror_mode": {
    "name": "ipython",
    "version": 3
   },
   "file_extension": ".py",
   "mimetype": "text/x-python",
   "name": "python",
   "nbconvert_exporter": "python",
   "pygments_lexer": "ipython3",
   "version": 3
  },
  "orig_nbformat": 2
 },
 "nbformat": 4,
 "nbformat_minor": 2,
 "cells": [
  {
   "cell_type": "code",
   "execution_count": null,
   "metadata": {},
   "outputs": [],
   "source": [
    "import pandas as pd\n",
    "import matplotlib.pyplot as plt\n",
    "import numpy as np\n",
    "\n",
    "df1 = pd.read_csv('./dataset/train_SectionDataset.csv', header=0) \n",
    "df1 = df1[['title', 'section']]\n",
    "\n",
    "df2 = pd.read_csv('./dataset/test_SectionDataset.csv', header=0) \n",
    "df2 = df2[['title', 'section']]\n",
    "\n",
    "input_String = df2[:][:1]\n",
    "df3 = input_String.append (df1, ignore_index=True)\n",
    "df3 = df3[df3['section'] == 0]\n",
    "\n",
    "from sklearn.feature_extraction.text import CountVectorizer\n",
    "from sklearn.metrics.pairwise import cosine_similarity\n",
    "\n",
    "count_vector = CountVectorizer( ngram_range=(1,18) )\n",
    "c_vector_title = count_vector.fit_transform( df3['title'] )\n",
    "\n",
    "title_c_sim = cosine_similarity( c_vector_title )\n",
    "\n",
    "title_c_sim = title_c_sim.argsort()[:, ::-1]\n",
    "print(title_c_sim)\n",
    "\n",
    "def get_recommend_movie_list(df, input_title, top=6):\n",
    "    # 입력 제목 영화의 인덱스 값 추출\n",
    "    target_index = df[ df['title'] == input_title].index.values\n",
    "    print( target_index )\n",
    "    # 코사인 유사도 중 비슷한 코사인 유사도를 가진 정보를 추출    \n",
    "    sim_index1 = title_c_sim[target_index, :top]\n",
    "    print( sim_index1 )\n",
    "    sim_index2 = sim_index1.reshape(-1)\n",
    "    print( sim_index2 )\n",
    "    # 본인 제외\n",
    "    sim_index3 = sim_index2[ sim_index2 != target_index ]\n",
    "    print( sim_index3 )\n",
    "    # 최종 선택\n",
    "    return df.iloc[sim_index3]\n",
    "\n",
    "new_String = '박준영 “도자기 집에서 사용” 김선교 “궁궐 살았나”'\n",
    "get_recommend_movie_list( df3, new_String )"
   ]
  }
 ]
}