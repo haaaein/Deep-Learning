{
 "metadata": {
  "language_info": {
   "codemirror_mode": {
    "name": "ipython",
    "version": 3
   },
   "file_extension": ".py",
   "mimetype": "text/x-python",
   "name": "python",
   "nbconvert_exporter": "python",
   "pygments_lexer": "ipython3",
   "version": 3
  },
  "orig_nbformat": 2
 },
 "nbformat": 4,
 "nbformat_minor": 2,
 "cells": [
  {
   "cell_type": "code",
   "execution_count": null,
   "metadata": {},
   "outputs": [],
   "source": [
    "import pandas as pd\n",
    "import matplotlib.pyplot as plt\n",
    "\n",
    "df1 = pd.read_csv('./dataset/ratings.csv')\n",
    "df2 = pd.read_csv('./dataset/movies.csv')\n",
    "\n",
    "df4 = pd.merge(df1, df2, on='movieId')\n",
    "\n",
    "movie_user_rating = df4.pivot_table('rating', index='userId', columns='title')\n",
    "\n",
    "new_rating = movie_user_rating.fillna(0)\n",
    "\n",
    "#코사인유사도 구하기\n",
    "from sklearn.metrics.pairwise import cosine_similarity\n",
    "\n",
    "item_collabor = cosine_similarity( new_rating )\n",
    "\n",
    "similarity_matrix = pd.DataFrame(data=item_collabor, index=new_rating.index, columns=new_rating.index)\n",
    "\n",
    "def get_item_collabor(userId):\n",
    "    return similarity_matrix[userId].sort_values(ascending=False)[:6]\n",
    "\n",
    "print( get_item_collabor(3) )"
   ]
  }
 ]
}