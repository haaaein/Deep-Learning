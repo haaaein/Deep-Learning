{
 "metadata": {
  "language_info": {
   "codemirror_mode": {
    "name": "ipython",
    "version": 3
   },
   "file_extension": ".py",
   "mimetype": "text/x-python",
   "name": "python",
   "nbconvert_exporter": "python",
   "pygments_lexer": "ipython3",
   "version": 3
  },
  "orig_nbformat": 2
 },
 "nbformat": 4,
 "nbformat_minor": 2,
 "cells": [
  {
   "cell_type": "code",
   "execution_count": null,
   "metadata": {},
   "outputs": [],
   "source": [
    "import pandas as pd\n",
    "import matplotlib.pyplot as plt\n",
    "from sklearn.cluster import KMeans\n",
    "\n",
    "df = pd.read_csv('./dataset/ClusterInput.csv', names=['0', '1'])\n",
    "#print( df.describe() )\n",
    "#df2 = df[ ['Sepal.Length', 'Petal.Length'] ] #두개의 칼럼만 사용\n",
    "\n",
    "model = KMeans( n_clusters=8, random_state=0 )\n",
    "model.fit(df)\n",
    "\n",
    "result = model.predict(df)\n",
    "#print(result)\n",
    "print(\"개수: \", len(result) )\n",
    "\n",
    "centers = model.cluster_centers_\n",
    "print(centers)\n",
    "\n",
    "plt.scatter( x=df['0'], y=df['1'], c=result )\n",
    "plt.scatter( x=centers[:,0], y=centers[:,1], marker='D', c='r')"
   ]
  }
 ]
}